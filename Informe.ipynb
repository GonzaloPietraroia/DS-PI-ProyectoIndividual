{
 "cells": [
  {
   "cell_type": "markdown",
   "metadata": {},
   "source": [
    "## Diccionario de datos"
   ]
  },
  {
   "cell_type": "markdown",
   "metadata": {},
   "source": [
    "### Tabla Canal\n",
    "\n",
    "Esta tabla contiene toda la informacion que sirve para categorizar los canales de venta\n",
    "\n",
    "| Columna | Descripcion | Tipo de Dato |\n",
    "|----|-----|------|\n",
    "|**CODIGO**|Clave primaria para identificar el canal de venta|Int|\n",
    "|**DESCRIPCION**|Tipo de canal de venta|String|\n"
   ]
  },
  {
   "cell_type": "markdown",
   "metadata": {},
   "source": [
    "### Tabla Sucursal\n",
    "\n",
    "Esta tabla contiene toda la informacion sobre las distintas sucursales registradas\n",
    "\n",
    "| Columna | Descripcion | Tipo de Dato |\n",
    "|----|-----|------|\n",
    "|**ID**|Clave primaria para identificar la sucursal|Int|\n",
    "|**Sucursal**|Nombre de la sucursal|String|\n",
    "|**Direccion**|Direccion de la sucursal|String|\n",
    "|**Localidad**|Localidad de la que forma parte la sucursal|String|\n",
    "|**Provincia**|Provincia donde se encuentra la sucursal|String|\n",
    "|**Latitud**|Coordenada de la sucursal, latitud|Float|\n",
    "|**Longitud**|Coordenada de la sucursal, longitud|Float|"
   ]
  },
  {
   "cell_type": "markdown",
   "metadata": {},
   "source": [
    "### Tabla TipoDeGasto\n",
    "\n",
    "Esta tabla contiene los distintos tipos de gasto\n",
    "\n",
    "| Columna | Descripcion | Tipo de Dato |\n",
    "|----|-----|------|\n",
    "|**IdTipoGasto**|Clave primaria para identificar el tipo de gasto|Int|\n",
    "|**Descripcion**|Tipo de gasto|String|\n",
    "|**Monto_Aproximado**|Monto para cada tipo de gasto|Int|\n"
   ]
  },
  {
   "cell_type": "markdown",
   "metadata": {},
   "source": [
    "### Tabla Gasto\n",
    "\n",
    "Esta tabla contiene todos los gastos vinculados a la sucursal, ademas del tipo de gasto\n",
    "\n",
    "| Columna | Descripcion | Tipo de Dato |\n",
    "|----|-----|------|\n",
    "|**IdGasto**|Clave primaria para identificar el gasto|Int|\n",
    "|**IdScurusal**|Clave para identificar la sucursal|Int|\n",
    "|**IdTipoGasto**|Clave para identificar el tipo de gasto|Int|\n",
    "|**Fecha**|Fecha en la que se realizo el gasto|Date|\n",
    "|**Monto**|Monto del gasto|Int|"
   ]
  },
  {
   "cell_type": "markdown",
   "metadata": {},
   "source": [
    "### Tabla Venta\n",
    "\n",
    "Esta tabla contiene informacion sobre las ventas registradas\n",
    "\n",
    "| Columna | Descripcion | Tipo de Dato |\n",
    "|----|-----|------|\n",
    "|**IdVenta**|Clave primaria para identificar la venta|Int|\n",
    "|**Fecha**|Fecha en la que se realizo la venta|Date|\n",
    "|**Fecha_Entrega**|Fecha en la que se realizo la entrega|Date|\n",
    "|**IdCanal**|Clave para identificar el canal|Int|\n",
    "|**IdCliente**|Clave para identificar el cliente|Int|\n",
    "|**IdSucursal**|Clave para identificar la sucursal|Int|\n",
    "|**IdEmpleaedo**|Clave para identificar al empleado|Int|\n",
    "|**IdProducto**|Clave para identificar el producto|Int|\n",
    "|**Precio**|Precio por unidad del producto|Float|\n",
    "|**Cantidad**|Cantidad de productos en la venta|Int|"
   ]
  },
  {
   "cell_type": "markdown",
   "metadata": {},
   "source": [
    "### Tabla Compra\n",
    "\n",
    "Esta tabla contiene la informacion registrada sobre todas las compras a proveedores\n",
    "\n",
    "| Columna | Descripcion | Tipo de Dato |\n",
    "|----|-----|------|\n",
    "|**IdCompra**|Clave primaria para identificar la compra|Int|\n",
    "|**Fecha**|Fecha en la que se realizo la compra|Date|\n",
    "|**Fecha_Año**|Año en la que se realizo la compra|Int|\n",
    "|**Fecha_Mes**|Mes en la que se realizo la compra|Int|\n",
    "|**Fecha_Periodo**|Periodo en donde se realizo la compra|Int|\n",
    "|**IdProducto**|Clave para identificar el producto|Int|\n",
    "|**Cantidad**|Cantidad involucrada en la compra|Int|\n",
    "|**Precio**|Precio por unidad del producto|Float|\n",
    "|**IdProveedor**|Clave para identificar al proveedor|Int|"
   ]
  },
  {
   "cell_type": "markdown",
   "metadata": {},
   "source": [
    "### Tabla Cliente\n",
    "\n",
    "Esta tabla contiene toda la informacion sobre los clientes registrados\n",
    "\n",
    "| Columna | Descripcion | Tipo de Dato |\n",
    "|----|-----|------|\n",
    "|**ID**|Clave primaria para identificar al cliente|Int|\n",
    "|**Provincia**|Provincia del cliente|String|\n",
    "|**Nombre_y_Apellido**|Nombre y apellido del cliente|String|\n",
    "|**Domicilio**|Domicilio particular del cliente|String|\n",
    "|**Telefono**|Telefono del cliente|Int|\n",
    "|**Edad**|Edad registrada del cliente|Int|\n",
    "|**Localidad**|Localidad del cliente|String|\n",
    "|**X**|Coordenada del cliente, longitud |Float|\n",
    "|**Y**|Coordenada del cliente, latitud|Float|"
   ]
  },
  {
   "cell_type": "markdown",
   "metadata": {},
   "source": [
    "### Tabla Localidad\n",
    "\n",
    "Esta tabla contiene informacion sobre todas las localidades\n",
    "\n",
    "| Columna | Descripcion | Tipo de Dato |\n",
    "|----|-----|------|\n",
    "|**Categoria**|Indica si una localidad es compuesta o simple|String|\n",
    "|**centroide_lat**|Coordenada de la localidad, latitud|Float|\n",
    "|**centroide_lon**|Coordenada de la localidad, longitud|Float|\n",
    "|**departamento_id**|Clave para identificar el departamento|Int|\n",
    "|**departamento_nombre**|Nombre del departamente|String|\n",
    "|**fuente**|Fuente de informacion de dicha entrada|String|\n",
    "|**id**|Numero compuesto por los ids de departamento, localidad y municipio|Int|\n",
    "|**localidad_censal_id**|Clave para identificar la localidad censal|Int|\n",
    "|**localidad_censal_nombre**|Nombre de la localidad censal|String|\n",
    "|**municipio_id**|Clave para identificar el municipio|Int|\n",
    "|**municipio_nombre**|Nombre del municipio|String|\n",
    "|**nombre**|Nombre de la localidad|String|\n",
    "|**provincia_id**|Clave para identificar la provincia|Int|\n",
    "|**provincia**|Provincia de la localidad|String|\n"
   ]
  },
  {
   "cell_type": "markdown",
   "metadata": {},
   "source": [
    "### Tabla Proveedor\n",
    "\n",
    "Esta tabla contiene informacion de los proveedores registrados\n",
    "\n",
    "| Columna | Descripcion | Tipo de Dato |\n",
    "|----|-----|------|\n",
    "|**IDProveedor**|Clave primaria para identificar al proveedor|Int|\n",
    "|**Nombre**|Nombre del proveedor|String|\n",
    "|**Address**|Domicilio del proveedor|String|\n",
    "|**City**|Localidad del proveedor|String|\n",
    "|**State**|Provincia del proveedor|String|\n",
    "|**Country**|Pais del proveedor|String|\n",
    "|**departamen**|Departamento del proveedor|String|"
   ]
  },
  {
   "cell_type": "markdown",
   "metadata": {},
   "source": [
    "## Analisis de calidad"
   ]
  },
  {
   "cell_type": "markdown",
   "metadata": {},
   "source": [
    "En el siguiente analisis de calidad podemos observar, un analisis general del archivo y otros graficos individuales de las columnas con mayor problema en su calidad.\n",
    "\n"
   ]
  },
  {
   "cell_type": "markdown",
   "metadata": {},
   "source": [
    "#### Compra\n",
    "\n",
    "##### Grafico general\n",
    "\n",
    "<img src=\"Graficos/CompraGeneral.png\" width=\"500\"/>\n",
    "\n",
    "- Porcentaje de valores faltantes en la tabla Compra es : 0.36 %\n",
    "- Porcentaje de outliers en la tabla Compra es : 0.17 %\n",
    "- Porcentaje de valores sin error en la tabla Compra es : 99.47 %\n",
    "\n",
    "\n",
    "Porcentaje de valores faltantes en la columna Cantidad es : 0.0 %\n",
    "Porcentaje de outliers en la columna Cantidad es : 1.55 %\n",
    "Porcentaje de valores sin error en la columna Cantidad es : 98.45 %\n",
    "---------------------------------------------------\n",
    "\n",
    "Porcentaje de valores faltantes en la columna Precio es : 3.18 %\n",
    "Porcentaje de outliers en la columna Precio es : 0 %\n",
    "Porcentaje de valores sin error en la columna Precio es : 96.82 %\n",
    "---------------------------------------------------\n"
   ]
  },
  {
   "cell_type": "markdown",
   "metadata": {},
   "source": [
    "#### Venta\n",
    "\n",
    "##### Grafico general\n",
    "\n",
    "<img src=\"Graficos/VentaGeneral.png\" width=\"500\"/>\n",
    "\n",
    "- Porcentaje de valores faltantes en la tabla Venta es : 0.4 %\n",
    "- Porcentaje de outliers en la tabla Venta es : 0.15 %\n",
    "- Porcentaje de valores sin error en la tabla Venta es : 99.45 %\n",
    "\n",
    "\n",
    "Porcentaje de valores faltantes en la columna Precio es : 1.99 %\n",
    "Porcentaje de outliers en la columna Precio es : 0 %\n",
    "Porcentaje de valores sin error en la columna Precio es : 98.01 %\n",
    "---------------------------------------------------\n",
    "\n",
    "\n",
    "Porcentaje de valores faltantes en la columna Cantidad es : 1.91 %\n",
    "Porcentaje de outliers en la columna Cantidad es : 1.5 %\n",
    "Porcentaje de valores sin error en la columna Cantidad es : 96.59 %\n",
    "---------------------------------------------------\n",
    "\n"
   ]
  },
  {
   "cell_type": "markdown",
   "metadata": {},
   "source": [
    "#### Cliente\n",
    "\n",
    "#### Grafico general\n",
    "\n",
    "<img src=\"Graficos/ClientesGeneral.png\" width=\"500\"/>\n",
    "\n",
    "- Porcentaje de valores faltantes en la tabla Clientes es : 1.1 %\n",
    "- Porcentaje de outliers en la tabla Clientes es : 0.37 %\n",
    "- Porcentaje de valores sin error en la tabla Clientes es : 98.53 %\n",
    "\n",
    "Porcentaje de valores faltantes en la columna col10 es : 100.0 %\n",
    "Porcentaje de outliers en la columna col10 es : 0.0 %\n",
    "Porcentaje de valores sin error en la columna col10 es : 0.0 %\n",
    "---------------------------------------------------\n",
    "\n",
    "Porcentaje de valores faltantes en la columna Y es : 2.02 %\n",
    "Porcentaje de outliers en la columna Y es : 1.65 %\n",
    "Porcentaje de valores sin error en la columna Y es : 96.33 %\n",
    "---------------------------------------------------\n",
    "\n",
    "Porcentaje de valores faltantes en la columna X es : 2.1 %\n",
    "Porcentaje de outliers en la columna X es : 1.65 %\n",
    "Porcentaje de valores sin error en la columna X es : 96.25 %\n",
    "---------------------------------------------------\n",
    "\n",
    "Porcentaje de valores faltantes en la columna Telefono es : 1.31 %\n",
    "Porcentaje de outliers en la columna Telefono es : 0 %\n",
    "Porcentaje de valores sin error en la columna Telefono es : 98.69 %\n",
    "---------------------------------------------------\n",
    "\n",
    "Porcentaje de valores faltantes en la columna Localidad es : 0.94 %\n",
    "Porcentaje de outliers en la columna Localidad es : 0 %\n",
    "Porcentaje de valores sin error en la columna Localidad es : 99.06 %\n",
    "---------------------------------------------------\n",
    "\n",
    "Porcentaje de valores faltantes en la columna Domicilio es : 1.57 %\n",
    "Porcentaje de outliers en la columna Domicilio es : 0 %\n",
    "Porcentaje de valores sin error en la columna Domicilio es : 98.43 %\n",
    "---------------------------------------------------\n",
    "\n",
    "Porcentaje de valores faltantes en la columna Nombre_y_Apellido es : 0.9 %\n",
    "Porcentaje de outliers en la columna Nombre_y_Apellido es : 0 %\n",
    "Porcentaje de valores sin error en la columna Nombre_y_Apellido es : 99.1 %\n",
    "---------------------------------------------------\n",
    "\n",
    "Porcentaje de valores faltantes en la columna Provincia es : 0.94 %\n",
    "Porcentaje de outliers en la columna Provincia es : 0 %\n",
    "Porcentaje de valores sin error en la columna Provincia es : 99.06 %\n",
    "---------------------------------------------------\n"
   ]
  },
  {
   "cell_type": "markdown",
   "metadata": {},
   "source": [
    "#### Canal de venta\n",
    "\n",
    "##### Grafico general\n",
    "\n",
    "<img src=\"Graficos/CanalDeVentaGeneral.png\" width=\"500\"/>\n",
    "\n",
    "- Porcentaje de valores faltantes en la tabla Canal de venta es : 0.0 %\n",
    "- Porcentaje de outliers en la tabla Canal de venta es : 0.0 %\n",
    "- Porcentaje de valores sin error en la tabla Canal de venta es : 100.0 %\n",
    "\n"
   ]
  },
  {
   "cell_type": "markdown",
   "metadata": {},
   "source": [
    "#### Gasto\n",
    "\n",
    "##### Grafico general\n",
    "\n",
    "<img src=\"Graficos/GastoGeneral.png\" width=\"500\"/>\n",
    "\n",
    "- Porcentaje de valores faltantes en la tabla Gasto es : 0.0 %\n",
    "- Porcentaje de outliers en la tabla Gasto es : 0.0 %\n",
    "- Porcentaje de valores sin error en la tabla Gasto es : 100.0 %\n",
    "\n"
   ]
  },
  {
   "cell_type": "markdown",
   "metadata": {},
   "source": [
    "#### Proveedor\n",
    "\n",
    "##### Grafico general\n",
    "\n",
    "<img src=\"Graficos/ProveedorGeneral.png\" width=\"500\"/>\n",
    "\n",
    "- Porcentaje de valores faltantes en la tabla Proveedores es : 2.38 %\n",
    "- Porcentaje de outliers en la tabla Proveedores es : 0.0 %\n",
    "- Porcentaje de valores sin error en la tabla Proveedores es : 97.62 %\n"
   ]
  },
  {
   "cell_type": "markdown",
   "metadata": {},
   "source": [
    "#### Sucursal\n",
    "\n",
    "##### Grafico general\n",
    "\n",
    "<img src=\"Graficos/SucursalesGeneral.png\" width=\"500\"/>\n",
    "\n",
    "- Porcentaje de valores faltantes en la tabla Sucursales es : 0.0 %\n",
    "- Porcentaje de outliers en la tabla Sucursales es : 0.46 %\n",
    "- Porcentaje de valores sin error en la tabla Sucursales es : 99.54 %\n",
    "\n"
   ]
  },
  {
   "cell_type": "markdown",
   "metadata": {},
   "source": [
    "#### Tipo gasto\n",
    "\n",
    "##### Grafico general\n",
    "\n",
    "<img src=\"Graficos/TipoGastoGeneral.png\" width=\"500\"/>\n",
    "\n",
    "- Porcentaje de valores faltantes en la tabla Tipo de Gasto es : 0.0 %\n",
    "- Porcentaje de outliers en la tabla Tipo de Gasto es : 0.0 %\n",
    "- Porcentaje de valores sin error en la tabla Tipo de Gasto es : 100.0 %\n"
   ]
  }
 ],
 "metadata": {
  "kernelspec": {
   "display_name": "Python 3.9.5 ('base')",
   "language": "python",
   "name": "python3"
  },
  "language_info": {
   "name": "python",
   "version": "3.9.5"
  },
  "orig_nbformat": 4,
  "vscode": {
   "interpreter": {
    "hash": "97bd01fe62e1fc55dc656bbce15621cfb80411fa9ef75cc4a438f2a333f4f694"
   }
  }
 },
 "nbformat": 4,
 "nbformat_minor": 2
}
