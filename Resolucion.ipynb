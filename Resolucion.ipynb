{
 "cells": [
  {
   "cell_type": "code",
   "execution_count": 244,
   "metadata": {},
   "outputs": [],
   "source": [
    "## Herramientas para trabajar el dato\n",
    "import pandas as pd\n",
    "import numpy as np\n",
    "\n",
    "\n",
    "## Herramientas de visualizacion\n",
    "import seaborn as sns\n",
    "import matplotlib.pyplot as plt\n",
    "%matplotlib inline"
   ]
  },
  {
   "cell_type": "code",
   "execution_count": 245,
   "metadata": {},
   "outputs": [],
   "source": [
    "clientes_csv = pd.read_csv('Datasets/Clientes.csv',delimiter=';')\n",
    "compra_csv = pd.read_csv('Datasets/Compra.csv',delimiter=',')\n",
    "gasto_csv = pd.read_csv('Datasets/Gasto.csv',delimiter=',')\n",
    "localidades_csv = pd.read_csv('Datasets/Localidades.csv',delimiter=',')\n",
    "proveedores_csv = pd.read_csv('Datasets/Proveedores.csv',delimiter=',')\n",
    "sucursales_csv = pd.read_csv('Datasets/Sucursales.csv',delimiter=';')\n",
    "venta_csv = pd.read_csv('Datasets/Venta.csv',delimiter=',')\n",
    "\n"
   ]
  },
  {
   "cell_type": "code",
   "execution_count": 246,
   "metadata": {},
   "outputs": [
    {
     "data": {
      "text/plain": [
       "9"
      ]
     },
     "execution_count": 246,
     "metadata": {},
     "output_type": "execute_result"
    }
   ],
   "source": [
    "compra_csv.shape[1]\n"
   ]
  },
  {
   "cell_type": "code",
   "execution_count": 247,
   "metadata": {},
   "outputs": [],
   "source": [
    "def analisis_csv_general(csv):\n",
    "    cantidad_columnas = 0\n",
    "    valores_faltantes = 0\n",
    "    outliers = 0\n",
    "    sin_errores = 0\n",
    "    for column in csv:\n",
    "\n",
    "        if csv[column].dtype == 'O':    \n",
    "            valores_faltantes = valores_faltantes + round((csv[column].isnull().sum() * 100) / csv[column].count(),2 )     ## CALCULO DE VALORES FALTANTES Y SIN ERROR\n",
    "            sin_errores = sin_errores + round(100 - valores_faltantes,2)\n",
    "            outliers = outliers + 0\n",
    "        else:\n",
    "            minimo = csv[column].mean() - 3*csv[column].std()          ## VARIABLES PARA CALCULAR OUTLIER \n",
    "            maximo = csv[column].mean() + 3*csv[column].std()\n",
    "            outliers =  outliers + round((((csv[column][csv[column] < minimo].count() + csv[column][csv[column] > maximo].count())) * 100) / csv[column].count(),2)   ## REGLA 3 SIGMAS PARA OUTLIERS\n",
    "            valores_faltantes = valores_faltantes + round((csv[column].isnull().sum() * 100) / csv[column].count(),2)     ## CALCULO DE VALORES FALTANTES Y SIN ERROR\n",
    "        cantidad_columnas = cantidad_columnas + 1\n",
    "    \n",
    "    outliers = round(outliers/cantidad_columnas,2)\n",
    "    valores_faltantes = round(valores_faltantes/cantidad_columnas,2)\n",
    "    sin_errores = round(100 - valores_faltantes - outliers,2)\n",
    "\n",
    "    lista = [outliers,valores_faltantes,sin_errores]    \n",
    "\n",
    "        ##   CONFIGURACION DEL GRAFICO \n",
    "    plt.figure(figsize=(8,8))\n",
    "    plt.title('Calidad de '+column)\n",
    "    graph = plt.bar(['outliers','valores_faltantes','sin_errores'],lista)\n",
    "    i = 0\n",
    "    for p in graph:           ## AGREGA EL NUMERO CON EL PORCENTAJE\n",
    "        width = p.get_width()\n",
    "        height = p.get_height()\n",
    "        x, y = p.get_xy()\n",
    "        plt.text(x+width/2,\n",
    "            y+height*1.01,\n",
    "            str(lista[i])+'%',\n",
    "            ha='center',\n",
    "            weight='bold')\n",
    "        i+=1\n",
    "        \n",
    "    plt.show()\n",
    "        \n",
    "    \n",
    "    print('Porcentaje de valores faltantes en la columna','csv','es :',valores_faltantes,'%')\n",
    "    print('Porcentaje de outliers en la columna','csv','es :',outliers,'%')\n",
    "    print('Porcentaje de valores sin error en la columna','csv','es :',sin_errores,'%')\n",
    "    print('---------------------------------------------------')"
   ]
  },
  {
   "cell_type": "code",
   "execution_count": 248,
   "metadata": {},
   "outputs": [
    {
     "data": {
      "image/png": "[encoded data removed]",
      "text/plain": [
       "<Figure size 576x576 with 1 Axes>"
      ]
     },
     "metadata": {
      "needs_background": "light"
     },
     "output_type": "display_data"
    },
    {
     "name": "stdout",
     "output_type": "stream",
     "text": [
      "Porcentaje de valores faltantes en la columna csv es : 0.36 %\n",
      "Porcentaje de outliers en la columna csv es : 0.18 %\n",
      "Porcentaje de valores sin error en la columna csv es : 99.46 %\n",
      "---------------------------------------------------\n"
     ]
    }
   ],
   "source": [
    "analisis_csv_general(compra_csv)"
   ]
  },
  {
   "cell_type": "code",
   "execution_count": 249,
   "metadata": {},
   "outputs": [],
   "source": [
    "def analisis_csv(csv):\n",
    "    for column in csv:\n",
    "        \n",
    "        if csv[column].dtype == 'O':    \n",
    "            valores_faltantes = round((csv[column].isnull().sum() * 100) / len(csv),2 )     ## CALCULO DE VALORES FALTANTES Y SIN ERROR\n",
    "            sin_errores = round(100 - valores_faltantes,2)\n",
    "            outliers = 0\n",
    "        else:\n",
    "            minimo = csv[column].mean() - 3*csv[column].std()          ## VARIABLES PARA CALCULAR OUTLIER \n",
    "            maximo = csv[column].mean() + 3*csv[column].std()\n",
    "            outliers =  round((((len(csv[column][csv[column] < minimo]) + len(csv[column][csv[column] > maximo]))) * 100) / len(csv),2)   ## REGLA 3 SIGMAS PARA OUTLIERS\n",
    "            valores_faltantes = round((csv[column].isnull().sum() * 100) / len(csv),2)     ## CALCULO DE VALORES FALTANTES Y SIN ERROR\n",
    "            sin_errores = round(100 - valores_faltantes - outliers,2)\n",
    "\n",
    "        lista = [outliers,valores_faltantes,sin_errores]    \n",
    "\n",
    "        ##   CONFIGURACION DEL GRAFICO \n",
    "        plt.figure(figsize=(8,8))\n",
    "        plt.title('Calidad de '+column)\n",
    "        graph = plt.bar(['outliers','valores_faltantes','sin_errores'],lista)\n",
    "        i = 0\n",
    "        for p in graph:           ## AGREGA EL NUMERO CON EL PORCENTAJE\n",
    "            width = p.get_width()\n",
    "            height = p.get_height()\n",
    "            x, y = p.get_xy()\n",
    "            plt.text(x+width/2,\n",
    "                y+height*1.01,\n",
    "                str(lista[i])+'%',\n",
    "                ha='center',\n",
    "                weight='bold')\n",
    "            i+=1\n",
    "        \n",
    "        plt.show()\n",
    "        \n",
    "    \n",
    "        print('Porcentaje de valores faltantes en la columna',column,'es :',valores_faltantes,'%')\n",
    "        print('Porcentaje de outliers en la columna',column,'es :',outliers,'%')\n",
    "        print('Porcentaje de valores sin error en la columna',column,'es :',sin_errores,'%')\n",
    "        print('---------------------------------------------------')"
   ]
  },
  {
   "cell_type": "code",
   "execution_count": 250,
   "metadata": {},
   "outputs": [
    {
     "data": {
      "image/png": "[encoded data removed]",
      "text/plain": [
       "<Figure size 576x576 with 1 Axes>"
      ]
     },
     "metadata": {
      "needs_background": "light"
     },
     "output_type": "display_data"
    },
    {
     "name": "stdout",
     "output_type": "stream",
     "text": [
      "Porcentaje de valores faltantes en la columna ID es : 0.0 %\n",
      "Porcentaje de outliers en la columna ID es : 0.0 %\n",
      "Porcentaje de valores sin error en la columna ID es : 100.0 %\n",
      "---------------------------------------------------\n"
     ]
    },
    {
     "data": {
      "image/png": "[encoded data removed]",
      "text/plain": [
       "<Figure size 576x576 with 1 Axes>"
      ]
     },
     "metadata": {
      "needs_background": "light"
     },
     "output_type": "display_data"
    },
    {
     "name": "stdout",
     "output_type": "stream",
     "text": [
      "Porcentaje de valores faltantes en la columna Provincia es : 0.94 %\n",
      "Porcentaje de outliers en la columna Provincia es : 0 %\n",
      "Porcentaje de valores sin error en la columna Provincia es : 99.06 %\n",
      "---------------------------------------------------\n"
     ]
    },
    {
     "data": {
      "image/png": "[encoded data removed]",
      "text/plain": [
       "<Figure size 576x576 with 1 Axes>"
      ]
     },
     "metadata": {
      "needs_background": "light"
     },
     "output_type": "display_data"
    },
    {
     "name": "stdout",
     "output_type": "stream",
     "text": [
      "Porcentaje de valores faltantes en la columna Nombre_y_Apellido es : 0.9 %\n",
      "Porcentaje de outliers en la columna Nombre_y_Apellido es : 0 %\n",
      "Porcentaje de valores sin error en la columna Nombre_y_Apellido es : 99.1 %\n",
      "---------------------------------------------------\n"
     ]
    },
    {
     "data": {
      "image/png": "[encoded data removed]",
      "text/plain": [
       "<Figure size 576x576 with 1 Axes>"
      ]
     },
     "metadata": {
      "needs_background": "light"
     },
     "output_type": "display_data"
    },
    {
     "name": "stdout",
     "output_type": "stream",
     "text": [
      "Porcentaje de valores faltantes en la columna Domicilio es : 1.57 %\n",
      "Porcentaje de outliers en la columna Domicilio es : 0 %\n",
      "Porcentaje de valores sin error en la columna Domicilio es : 98.43 %\n",
      "---------------------------------------------------\n"
     ]
    },
    {
     "data": {
      "image/png": "[encoded data removed]",
      "text/plain": [
       "<Figure size 576x576 with 1 Axes>"
      ]
     },
     "metadata": {
      "needs_background": "light"
     },
     "output_type": "display_data"
    },
    {
     "name": "stdout",
     "output_type": "stream",
     "text": [
      "Porcentaje de valores faltantes en la columna Telefono es : 1.31 %\n",
      "Porcentaje de outliers en la columna Telefono es : 0 %\n",
      "Porcentaje de valores sin error en la columna Telefono es : 98.69 %\n",
      "---------------------------------------------------\n"
     ]
    },
    {
     "data": {
      "image/png": "[encoded data removed]",
      "text/plain": [
       "<Figure size 576x576 with 1 Axes>"
      ]
     },
     "metadata": {
      "needs_background": "light"
     },
     "output_type": "display_data"
    },
    {
     "name": "stdout",
     "output_type": "stream",
     "text": [
      "Porcentaje de valores faltantes en la columna Edad es : 0.0 %\n",
      "Porcentaje de outliers en la columna Edad es : 0.0 %\n",
      "Porcentaje de valores sin error en la columna Edad es : 100.0 %\n",
      "---------------------------------------------------\n"
     ]
    },
    {
     "data": {
      "image/png": "[encoded data removed]",
      "text/plain": [
       "<Figure size 576x576 with 1 Axes>"
      ]
     },
     "metadata": {
      "needs_background": "light"
     },
     "output_type": "display_data"
    },
    {
     "name": "stdout",
     "output_type": "stream",
     "text": [
      "Porcentaje de valores faltantes en la columna Localidad es : 0.94 %\n",
      "Porcentaje de outliers en la columna Localidad es : 0 %\n",
      "Porcentaje de valores sin error en la columna Localidad es : 99.06 %\n",
      "---------------------------------------------------\n"
     ]
    },
    {
     "data": {
      "image/png": "[encoded data removed]",
      "text/plain": [
       "<Figure size 576x576 with 1 Axes>"
      ]
     },
     "metadata": {
      "needs_background": "light"
     },
     "output_type": "display_data"
    },
    {
     "name": "stdout",
     "output_type": "stream",
     "text": [
      "Porcentaje de valores faltantes en la columna X es : 2.1 %\n",
      "Porcentaje de outliers en la columna X es : 0 %\n",
      "Porcentaje de valores sin error en la columna X es : 97.9 %\n",
      "---------------------------------------------------\n"
     ]
    },
    {
     "data": {
      "image/png": "[encoded data removed]",
      "text/plain": [
       "<Figure size 576x576 with 1 Axes>"
      ]
     },
     "metadata": {
      "needs_background": "light"
     },
     "output_type": "display_data"
    },
    {
     "name": "stdout",
     "output_type": "stream",
     "text": [
      "Porcentaje de valores faltantes en la columna Y es : 2.02 %\n",
      "Porcentaje de outliers en la columna Y es : 0 %\n",
      "Porcentaje de valores sin error en la columna Y es : 97.98 %\n",
      "---------------------------------------------------\n"
     ]
    },
    {
     "data": {
      "image/png": "[encoded data removed]",
      "text/plain": [
       "<Figure size 576x576 with 1 Axes>"
      ]
     },
     "metadata": {
      "needs_background": "light"
     },
     "output_type": "display_data"
    },
    {
     "name": "stdout",
     "output_type": "stream",
     "text": [
      "Porcentaje de valores faltantes en la columna col10 es : 100.0 %\n",
      "Porcentaje de outliers en la columna col10 es : 0.0 %\n",
      "Porcentaje de valores sin error en la columna col10 es : 0.0 %\n",
      "---------------------------------------------------\n"
     ]
    }
   ],
   "source": [
    "analisis_csv(clientes_csv)"
   ]
  },
  {
   "cell_type": "code",
   "execution_count": 251,
   "metadata": {},
   "outputs": [
    {
     "data": {
      "text/plain": [
       "0.0"
      ]
     },
     "execution_count": 251,
     "metadata": {},
     "output_type": "execute_result"
    }
   ],
   "source": [
    "clientes_csv['ID'].isnull().sum() * 100 / clientes_csv['ID'].count()"
   ]
  },
  {
   "cell_type": "code",
   "execution_count": 252,
   "metadata": {},
   "outputs": [
    {
     "data": {
      "text/plain": [
       "100.0"
      ]
     },
     "execution_count": 252,
     "metadata": {},
     "output_type": "execute_result"
    }
   ],
   "source": [
    "valores_faltantes = round((clientes_csv['col10'].isnull().sum() * 100) / len(clientes_csv),2) \n",
    "valores_faltantes"
   ]
  },
  {
   "cell_type": "code",
   "execution_count": 253,
   "metadata": {},
   "outputs": [
    {
     "name": "stdout",
     "output_type": "stream",
     "text": [
      "-3.630694471049445\n",
      "84.03862860278596\n"
     ]
    }
   ],
   "source": [
    "minimo = clientes_csv['Edad'].mean() - 3*clientes_csv['Edad'].std()\n",
    "maximo = clientes_csv['Edad'].mean() + 3*clientes_csv['Edad'].std()\n",
    "\n",
    "print(minimo)\n",
    "print(maximo)"
   ]
  },
  {
   "cell_type": "code",
   "execution_count": 254,
   "metadata": {},
   "outputs": [
    {
     "data": {
      "text/plain": [
       "83"
      ]
     },
     "execution_count": 254,
     "metadata": {},
     "output_type": "execute_result"
    }
   ],
   "source": [
    "id = 'ID'\n",
    "clientes_csv[id][clientes_csv[id] < 84].count()"
   ]
  },
  {
   "cell_type": "code",
   "execution_count": 255,
   "metadata": {},
   "outputs": [
    {
     "data": {
      "text/plain": [
       "IdCompra           int64\n",
       "Fecha             object\n",
       "Fecha_Año          int64\n",
       "Fecha_Mes          int64\n",
       "Fecha_Periodo      int64\n",
       "IdProducto         int64\n",
       "Cantidad           int64\n",
       "Precio           float64\n",
       "IdProveedor        int64\n",
       "dtype: object"
      ]
     },
     "execution_count": 255,
     "metadata": {},
     "output_type": "execute_result"
    }
   ],
   "source": [
    "compra_csv.dtypes"
   ]
  },
  {
   "cell_type": "code",
   "execution_count": 256,
   "metadata": {},
   "outputs": [
    {
     "data": {
      "text/plain": [
       "0.0"
      ]
     },
     "execution_count": 256,
     "metadata": {},
     "output_type": "execute_result"
    }
   ],
   "source": [
    "column = 'Edad'\n",
    "outliers =  (((clientes_csv[column][clientes_csv[column] < minimo].count() + clientes_csv[column][clientes_csv[column] > maximo].count())) * 100) / clientes_csv[column].count()\n",
    "\n",
    "outliers"
   ]
  },
  {
   "cell_type": "code",
   "execution_count": 257,
   "metadata": {},
   "outputs": [
    {
     "data": {
      "text/plain": [
       "2672"
      ]
     },
     "execution_count": 257,
     "metadata": {},
     "output_type": "execute_result"
    }
   ],
   "source": [
    "column = 'Edad'\n",
    "(clientes_csv[column].count() - (clientes_csv[column][clientes_csv[column] < minimo].count() + clientes_csv[column][clientes_csv[column] > maximo].count()))"
   ]
  },
  {
   "cell_type": "code",
   "execution_count": 258,
   "metadata": {},
   "outputs": [
    {
     "data": {
      "text/html": [
       "<div>\n",
       "<style scoped>\n",
       "    .dataframe tbody tr th:only-of-type {\n",
       "        vertical-align: middle;\n",
       "    }\n",
       "\n",
       "    .dataframe tbody tr th {\n",
       "        vertical-align: top;\n",
       "    }\n",
       "\n",
       "    .dataframe thead th {\n",
       "        text-align: right;\n",
       "    }\n",
       "</style>\n",
       "<table border=\"1\" class=\"dataframe\">\n",
       "  <thead>\n",
       "    <tr style=\"text-align: right;\">\n",
       "      <th></th>\n",
       "      <th>ID</th>\n",
       "      <th>Provincia</th>\n",
       "      <th>Nombre_y_Apellido</th>\n",
       "      <th>Domicilio</th>\n",
       "      <th>Telefono</th>\n",
       "      <th>Edad</th>\n",
       "      <th>Localidad</th>\n",
       "      <th>X</th>\n",
       "      <th>Y</th>\n",
       "      <th>col10</th>\n",
       "    </tr>\n",
       "  </thead>\n",
       "  <tbody>\n",
       "    <tr>\n",
       "      <th>0</th>\n",
       "      <td>1</td>\n",
       "      <td>Buenos Aires</td>\n",
       "      <td>HEBER JONI SANTANA</td>\n",
       "      <td>LAS HERAS Y BAT. 24 DE FEBRERO 4150  RINCON DE...</td>\n",
       "      <td>42-5161</td>\n",
       "      <td>58</td>\n",
       "      <td>LOMA VERDE</td>\n",
       "      <td>-58,81850307</td>\n",
       "      <td>-34,30997088</td>\n",
       "      <td>NaN</td>\n",
       "    </tr>\n",
       "    <tr>\n",
       "      <th>1</th>\n",
       "      <td>2</td>\n",
       "      <td>Buenos Aires</td>\n",
       "      <td>ANA SAPRIZA</td>\n",
       "      <td>PUEYRREDON Y DUPUY RUTA3 KM 52.500 S/N  BÂº LO...</td>\n",
       "      <td>49-7578</td>\n",
       "      <td>61</td>\n",
       "      <td>SANTA ROSA</td>\n",
       "      <td>-58,73073751</td>\n",
       "      <td>-34,93908311</td>\n",
       "      <td>NaN</td>\n",
       "    </tr>\n",
       "    <tr>\n",
       "      <th>2</th>\n",
       "      <td>3</td>\n",
       "      <td>Buenos Aires</td>\n",
       "      <td>FERNANDO LUIS SARALEGUI</td>\n",
       "      <td>CALDERON DE LA BARCA 498</td>\n",
       "      <td>49-3435</td>\n",
       "      <td>15</td>\n",
       "      <td>TORRES</td>\n",
       "      <td>-59,12794068</td>\n",
       "      <td>-34,43082199</td>\n",
       "      <td>NaN</td>\n",
       "    </tr>\n",
       "    <tr>\n",
       "      <th>3</th>\n",
       "      <td>4</td>\n",
       "      <td>Buenos Aires</td>\n",
       "      <td>MANUELA SARASOLA</td>\n",
       "      <td>RUTA 36 KM 45,500 S/N  EL PELIGRO</td>\n",
       "      <td>49-2883</td>\n",
       "      <td>29</td>\n",
       "      <td>RUTA SOL</td>\n",
       "      <td>-58,14393954</td>\n",
       "      <td>-34,92052706</td>\n",
       "      <td>NaN</td>\n",
       "    </tr>\n",
       "    <tr>\n",
       "      <th>4</th>\n",
       "      <td>5</td>\n",
       "      <td>Buenos Aires</td>\n",
       "      <td>MARIO RAÚL SARASUA</td>\n",
       "      <td>492 Y 186 S/N  COLONIA URQUIZA</td>\n",
       "      <td>491-4608</td>\n",
       "      <td>34</td>\n",
       "      <td>JOSE MELCHOR ROMERO</td>\n",
       "      <td>-58,089381</td>\n",
       "      <td>-34,9444471</td>\n",
       "      <td>NaN</td>\n",
       "    </tr>\n",
       "    <tr>\n",
       "      <th>...</th>\n",
       "      <td>...</td>\n",
       "      <td>...</td>\n",
       "      <td>...</td>\n",
       "      <td>...</td>\n",
       "      <td>...</td>\n",
       "      <td>...</td>\n",
       "      <td>...</td>\n",
       "      <td>...</td>\n",
       "      <td>...</td>\n",
       "      <td>...</td>\n",
       "    </tr>\n",
       "    <tr>\n",
       "      <th>2667</th>\n",
       "      <td>2668</td>\n",
       "      <td>Córdoba</td>\n",
       "      <td>MARIA STELLA RIVAS</td>\n",
       "      <td>CALLE PUBLICA  SANTA ELENA COLONIA TIROLESA - ...</td>\n",
       "      <td>4902756</td>\n",
       "      <td>23</td>\n",
       "      <td>COLONIA TIROLESA</td>\n",
       "      <td>-64,07419272</td>\n",
       "      <td>-31,25881725</td>\n",
       "      <td>NaN</td>\n",
       "    </tr>\n",
       "    <tr>\n",
       "      <th>2668</th>\n",
       "      <td>2669</td>\n",
       "      <td>Córdoba</td>\n",
       "      <td>ANA GABRIELA RIVAS</td>\n",
       "      <td>CALLE PUBLICA S/NÂº  LA ARCADIA</td>\n",
       "      <td>153580992</td>\n",
       "      <td>28</td>\n",
       "      <td>LA ARCADIA</td>\n",
       "      <td>-64,07696886</td>\n",
       "      <td>-31,53338396</td>\n",
       "      <td>NaN</td>\n",
       "    </tr>\n",
       "    <tr>\n",
       "      <th>2669</th>\n",
       "      <td>2670</td>\n",
       "      <td>Córdoba</td>\n",
       "      <td>JAVIER ALONSO RIVEIRO</td>\n",
       "      <td>AVENIDA LIBERTADOR SAN MARTIN S/NÂº  BOUWER</td>\n",
       "      <td>4993041</td>\n",
       "      <td>57</td>\n",
       "      <td>BOUWER</td>\n",
       "      <td>-64,19298343</td>\n",
       "      <td>-31,55786125</td>\n",
       "      <td>NaN</td>\n",
       "    </tr>\n",
       "    <tr>\n",
       "      <th>2670</th>\n",
       "      <td>2671</td>\n",
       "      <td>Córdoba</td>\n",
       "      <td>JUAN MANUEL RODRIGUEZ</td>\n",
       "      <td>CALLE PUBLICA S/NÂ°  EL GATEADO BARRIO EL GATE...</td>\n",
       "      <td>152768918</td>\n",
       "      <td>36</td>\n",
       "      <td>EL GATEADO</td>\n",
       "      <td>-64,11681227</td>\n",
       "      <td>-31,32123448</td>\n",
       "      <td>NaN</td>\n",
       "    </tr>\n",
       "    <tr>\n",
       "      <th>2671</th>\n",
       "      <td>2672</td>\n",
       "      <td>Córdoba</td>\n",
       "      <td>JULIO CESAR RODRIGUEZ</td>\n",
       "      <td>CALLE PUBLICA S/NÂº  EL VERGEL P/COLONIA TIROLESA</td>\n",
       "      <td>156149888</td>\n",
       "      <td>42</td>\n",
       "      <td>EL VERGEL</td>\n",
       "      <td>-64,07463455</td>\n",
       "      <td>-31,25832604</td>\n",
       "      <td>NaN</td>\n",
       "    </tr>\n",
       "  </tbody>\n",
       "</table>\n",
       "<p>2672 rows × 10 columns</p>\n",
       "</div>"
      ],
      "text/plain": [
       "        ID     Provincia        Nombre_y_Apellido  \\\n",
       "0        1  Buenos Aires       HEBER JONI SANTANA   \n",
       "1        2  Buenos Aires              ANA SAPRIZA   \n",
       "2        3  Buenos Aires  FERNANDO LUIS SARALEGUI   \n",
       "3        4  Buenos Aires         MANUELA SARASOLA   \n",
       "4        5  Buenos Aires       MARIO RAÚL SARASUA   \n",
       "...    ...           ...                      ...   \n",
       "2667  2668       Córdoba       MARIA STELLA RIVAS   \n",
       "2668  2669       Córdoba       ANA GABRIELA RIVAS   \n",
       "2669  2670       Córdoba    JAVIER ALONSO RIVEIRO   \n",
       "2670  2671       Córdoba    JUAN MANUEL RODRIGUEZ   \n",
       "2671  2672       Córdoba    JULIO CESAR RODRIGUEZ   \n",
       "\n",
       "                                              Domicilio   Telefono  Edad  \\\n",
       "0     LAS HERAS Y BAT. 24 DE FEBRERO 4150  RINCON DE...    42-5161    58   \n",
       "1     PUEYRREDON Y DUPUY RUTA3 KM 52.500 S/N  BÂº LO...    49-7578    61   \n",
       "2                              CALDERON DE LA BARCA 498    49-3435    15   \n",
       "3                     RUTA 36 KM 45,500 S/N  EL PELIGRO    49-2883    29   \n",
       "4                        492 Y 186 S/N  COLONIA URQUIZA   491-4608    34   \n",
       "...                                                 ...        ...   ...   \n",
       "2667  CALLE PUBLICA  SANTA ELENA COLONIA TIROLESA - ...    4902756    23   \n",
       "2668                    CALLE PUBLICA S/NÂº  LA ARCADIA  153580992    28   \n",
       "2669        AVENIDA LIBERTADOR SAN MARTIN S/NÂº  BOUWER    4993041    57   \n",
       "2670  CALLE PUBLICA S/NÂ°  EL GATEADO BARRIO EL GATE...  152768918    36   \n",
       "2671  CALLE PUBLICA S/NÂº  EL VERGEL P/COLONIA TIROLESA  156149888    42   \n",
       "\n",
       "                Localidad             X             Y  col10  \n",
       "0              LOMA VERDE  -58,81850307  -34,30997088    NaN  \n",
       "1              SANTA ROSA  -58,73073751  -34,93908311    NaN  \n",
       "2                  TORRES  -59,12794068  -34,43082199    NaN  \n",
       "3                RUTA SOL  -58,14393954  -34,92052706    NaN  \n",
       "4     JOSE MELCHOR ROMERO    -58,089381   -34,9444471    NaN  \n",
       "...                   ...           ...           ...    ...  \n",
       "2667     COLONIA TIROLESA  -64,07419272  -31,25881725    NaN  \n",
       "2668           LA ARCADIA  -64,07696886  -31,53338396    NaN  \n",
       "2669               BOUWER  -64,19298343  -31,55786125    NaN  \n",
       "2670           EL GATEADO  -64,11681227  -31,32123448    NaN  \n",
       "2671            EL VERGEL  -64,07463455  -31,25832604    NaN  \n",
       "\n",
       "[2672 rows x 10 columns]"
      ]
     },
     "execution_count": 258,
     "metadata": {},
     "output_type": "execute_result"
    }
   ],
   "source": [
    "clientes_csv"
   ]
  },
  {
   "cell_type": "code",
   "execution_count": 259,
   "metadata": {},
   "outputs": [
    {
     "data": {
      "text/plain": [
       "Capital Federal       49\n",
       "La Plata              31\n",
       "General San Martín    29\n",
       "San Rafael            27\n",
       "Luján de Cuyo         24\n",
       "                      ..\n",
       "Palma Sola             1\n",
       "Batavia                1\n",
       "Colonia Raquel         1\n",
       "Ibarlucea              1\n",
       "Las Ovejas             1\n",
       "Name: municipio_nombre, Length: 1614, dtype: int64"
      ]
     },
     "execution_count": 259,
     "metadata": {},
     "output_type": "execute_result"
    }
   ],
   "source": [
    "localidades_csv['municipio_nombre'].value_counts()"
   ]
  },
  {
   "cell_type": "code",
   "execution_count": 260,
   "metadata": {},
   "outputs": [],
   "source": [
    "def levenshtein_ratio_and_distance(s, t, ratio_calc = False):\n",
    "    \"\"\" levenshtein_ratio_and_distance:\n",
    "        Calculates levenshtein distance between two strings.\n",
    "        If ratio_calc = True, the function computes the\n",
    "        levenshtein distance ratio of similarity between two strings\n",
    "        For all i and j, distance[i,j] will contain the Levenshtein\n",
    "        distance between the first i characters of s and the\n",
    "        first j characters of t\n",
    "    \"\"\"\n",
    "    # Initialize matrix of zeros\n",
    "    rows = len(s)+1\n",
    "    cols = len(t)+1\n",
    "    distance = np.zeros((rows,cols),dtype = int)\n",
    "\n",
    "    # Populate matrix of zeros with the indeces of each character of both strings\n",
    "    for i in range(1, rows):\n",
    "        for k in range(1,cols):\n",
    "            distance[i][0] = i\n",
    "            distance[0][k] = k\n",
    "\n",
    "    # Iterate over the matrix to compute the cost of deletions,insertions and/or substitutions    \n",
    "    for col in range(1, cols):\n",
    "        for row in range(1, rows):\n",
    "            if s[row-1] == t[col-1]:\n",
    "                cost = 0 # If the characters are the same in the two strings in a given position [i,j] then the cost is 0\n",
    "            else:\n",
    "                # In order to align the results with those of the Python Levenshtein package, if we choose to calculate the ratio\n",
    "                # the cost of a substitution is 2. If we calculate just distance, then the cost of a substitution is 1.\n",
    "                if ratio_calc == True:\n",
    "                    cost = 2\n",
    "                else:\n",
    "                    cost = 1\n",
    "            distance[row][col] = min(distance[row-1][col] + 1,      # Cost of deletions\n",
    "                                 distance[row][col-1] + 1,          # Cost of insertions\n",
    "                                 distance[row-1][col-1] + cost)     # Cost of substitutions\n",
    "    if ratio_calc == True:\n",
    "        # Computation of the Levenshtein Distance Ratio\n",
    "        Ratio = ((len(s)+len(t)) - distance[row][col]) / (len(s)+len(t))\n",
    "        return Ratio\n",
    "    else:\n",
    "        # print(distance) # Uncomment if you want to see the matrix showing how the algorithm computes the cost of deletions,\n",
    "        # insertions and/or substitutions\n",
    "        # This is the minimum number of edits needed to convert string a to string b\n",
    "        return \"The strings are {} edits away\".format(distance[row][col])"
   ]
  },
  {
   "cell_type": "code",
   "execution_count": 266,
   "metadata": {},
   "outputs": [],
   "source": [
    "csv = clientes_csv\n",
    "\n",
    "def eliminar_columna_vacia(csv): \n",
    "    for i in csv:\n",
    "        columna_vacia = 0\n",
    "        columna_vacia = csv[i].isnull().sum()/len(csv)\n",
    "        if columna_vacia == 1:\n",
    "            csv.drop(columns=i,inplace=True)\n",
    "\n",
    "def normalizar_strings(csv):\n",
    "    for i in csv:\n",
    "        if csv[i].dtype == 'O':\n",
    "            csv[i] = csv[i].str.title()\n",
    "\n",
    "def llenar_nulos(csv):\n",
    "    for i in csv:\n",
    "        if csv[i].dtype == 'O':\n",
    "            csv[i] = csv[i].fillna('Sin datos')\n",
    "        else:\n",
    "            csv[i] = csv[i].fillna(0)\n",
    "\n",
    "def eliminar_duplicados(csv):\n",
    "    for i in csv:\n",
    "        csv[i].drop_duplicates(inplace=True)\n",
    "\n",
    "def remplazar_coma_por_punto(csv):\n",
    "    for i in csv:\n",
    "        if csv[i].dtype == 'O':\n",
    "            pass\n",
    "        else:\n",
    "            csv[i].re"
   ]
  },
  {
   "cell_type": "code",
   "execution_count": 262,
   "metadata": {},
   "outputs": [],
   "source": [
    "eliminar_columna_vacia(csv)"
   ]
  },
  {
   "cell_type": "code",
   "execution_count": 263,
   "metadata": {},
   "outputs": [],
   "source": [
    "llenar_nulos(csv)"
   ]
  },
  {
   "cell_type": "code",
   "execution_count": 264,
   "metadata": {},
   "outputs": [],
   "source": [
    "normalizar_strings(csv)\n"
   ]
  },
  {
   "cell_type": "code",
   "execution_count": 273,
   "metadata": {},
   "outputs": [],
   "source": [
    "eliminar_duplicados(csv)"
   ]
  },
  {
   "cell_type": "code",
   "execution_count": 278,
   "metadata": {},
   "outputs": [
    {
     "data": {
      "text/plain": [
       "-10.0"
      ]
     },
     "execution_count": 278,
     "metadata": {},
     "output_type": "execute_result"
    }
   ],
   "source": [
    "float(42-52)"
   ]
  },
  {
   "cell_type": "code",
   "execution_count": 274,
   "metadata": {},
   "outputs": [
    {
     "data": {
      "text/html": [
       "<div>\n",
       "<style scoped>\n",
       "    .dataframe tbody tr th:only-of-type {\n",
       "        vertical-align: middle;\n",
       "    }\n",
       "\n",
       "    .dataframe tbody tr th {\n",
       "        vertical-align: top;\n",
       "    }\n",
       "\n",
       "    .dataframe thead th {\n",
       "        text-align: right;\n",
       "    }\n",
       "</style>\n",
       "<table border=\"1\" class=\"dataframe\">\n",
       "  <thead>\n",
       "    <tr style=\"text-align: right;\">\n",
       "      <th></th>\n",
       "      <th>ID</th>\n",
       "      <th>Provincia</th>\n",
       "      <th>Nombre_y_Apellido</th>\n",
       "      <th>Domicilio</th>\n",
       "      <th>Telefono</th>\n",
       "      <th>Edad</th>\n",
       "      <th>Localidad</th>\n",
       "      <th>X</th>\n",
       "      <th>Y</th>\n",
       "    </tr>\n",
       "  </thead>\n",
       "  <tbody>\n",
       "    <tr>\n",
       "      <th>0</th>\n",
       "      <td>1</td>\n",
       "      <td>Buenos Aires</td>\n",
       "      <td>Heber Joni Santana</td>\n",
       "      <td>Las Heras Y Bat. 24 De Febrero 4150  Rincon De...</td>\n",
       "      <td>42-5161</td>\n",
       "      <td>58</td>\n",
       "      <td>Loma Verde</td>\n",
       "      <td>-58,81850307</td>\n",
       "      <td>-34,30997088</td>\n",
       "    </tr>\n",
       "    <tr>\n",
       "      <th>1</th>\n",
       "      <td>2</td>\n",
       "      <td>Buenos Aires</td>\n",
       "      <td>Ana Sapriza</td>\n",
       "      <td>Pueyrredon Y Dupuy Ruta3 Km 52.500 S/N  Bâº Lo...</td>\n",
       "      <td>49-7578</td>\n",
       "      <td>61</td>\n",
       "      <td>Santa Rosa</td>\n",
       "      <td>-58,73073751</td>\n",
       "      <td>-34,93908311</td>\n",
       "    </tr>\n",
       "    <tr>\n",
       "      <th>2</th>\n",
       "      <td>3</td>\n",
       "      <td>Buenos Aires</td>\n",
       "      <td>Fernando Luis Saralegui</td>\n",
       "      <td>Calderon De La Barca 498</td>\n",
       "      <td>49-3435</td>\n",
       "      <td>15</td>\n",
       "      <td>Torres</td>\n",
       "      <td>-59,12794068</td>\n",
       "      <td>-34,43082199</td>\n",
       "    </tr>\n",
       "    <tr>\n",
       "      <th>3</th>\n",
       "      <td>4</td>\n",
       "      <td>Buenos Aires</td>\n",
       "      <td>Manuela Sarasola</td>\n",
       "      <td>Ruta 36 Km 45,500 S/N  El Peligro</td>\n",
       "      <td>49-2883</td>\n",
       "      <td>29</td>\n",
       "      <td>Ruta Sol</td>\n",
       "      <td>-58,14393954</td>\n",
       "      <td>-34,92052706</td>\n",
       "    </tr>\n",
       "    <tr>\n",
       "      <th>4</th>\n",
       "      <td>5</td>\n",
       "      <td>Buenos Aires</td>\n",
       "      <td>Mario Raúl Sarasua</td>\n",
       "      <td>492 Y 186 S/N  Colonia Urquiza</td>\n",
       "      <td>491-4608</td>\n",
       "      <td>34</td>\n",
       "      <td>Jose Melchor Romero</td>\n",
       "      <td>-58,089381</td>\n",
       "      <td>-34,9444471</td>\n",
       "    </tr>\n",
       "    <tr>\n",
       "      <th>...</th>\n",
       "      <td>...</td>\n",
       "      <td>...</td>\n",
       "      <td>...</td>\n",
       "      <td>...</td>\n",
       "      <td>...</td>\n",
       "      <td>...</td>\n",
       "      <td>...</td>\n",
       "      <td>...</td>\n",
       "      <td>...</td>\n",
       "    </tr>\n",
       "    <tr>\n",
       "      <th>2667</th>\n",
       "      <td>2668</td>\n",
       "      <td>Córdoba</td>\n",
       "      <td>Maria Stella Rivas</td>\n",
       "      <td>Calle Publica  Santa Elena Colonia Tirolesa - ...</td>\n",
       "      <td>4902756</td>\n",
       "      <td>23</td>\n",
       "      <td>Colonia Tirolesa</td>\n",
       "      <td>-64,07419272</td>\n",
       "      <td>-31,25881725</td>\n",
       "    </tr>\n",
       "    <tr>\n",
       "      <th>2668</th>\n",
       "      <td>2669</td>\n",
       "      <td>Córdoba</td>\n",
       "      <td>Ana Gabriela Rivas</td>\n",
       "      <td>Calle Publica S/Nâº  La Arcadia</td>\n",
       "      <td>153580992</td>\n",
       "      <td>28</td>\n",
       "      <td>La Arcadia</td>\n",
       "      <td>-64,07696886</td>\n",
       "      <td>-31,53338396</td>\n",
       "    </tr>\n",
       "    <tr>\n",
       "      <th>2669</th>\n",
       "      <td>2670</td>\n",
       "      <td>Córdoba</td>\n",
       "      <td>Javier Alonso Riveiro</td>\n",
       "      <td>Avenida Libertador San Martin S/Nâº  Bouwer</td>\n",
       "      <td>4993041</td>\n",
       "      <td>57</td>\n",
       "      <td>Bouwer</td>\n",
       "      <td>-64,19298343</td>\n",
       "      <td>-31,55786125</td>\n",
       "    </tr>\n",
       "    <tr>\n",
       "      <th>2670</th>\n",
       "      <td>2671</td>\n",
       "      <td>Córdoba</td>\n",
       "      <td>Juan Manuel Rodriguez</td>\n",
       "      <td>Calle Publica S/Nâ°  El Gateado Barrio El Gate...</td>\n",
       "      <td>152768918</td>\n",
       "      <td>36</td>\n",
       "      <td>El Gateado</td>\n",
       "      <td>-64,11681227</td>\n",
       "      <td>-31,32123448</td>\n",
       "    </tr>\n",
       "    <tr>\n",
       "      <th>2671</th>\n",
       "      <td>2672</td>\n",
       "      <td>Córdoba</td>\n",
       "      <td>Julio Cesar Rodriguez</td>\n",
       "      <td>Calle Publica S/Nâº  El Vergel P/Colonia Tirolesa</td>\n",
       "      <td>156149888</td>\n",
       "      <td>42</td>\n",
       "      <td>El Vergel</td>\n",
       "      <td>-64,07463455</td>\n",
       "      <td>-31,25832604</td>\n",
       "    </tr>\n",
       "  </tbody>\n",
       "</table>\n",
       "<p>2672 rows × 9 columns</p>\n",
       "</div>"
      ],
      "text/plain": [
       "        ID     Provincia        Nombre_y_Apellido  \\\n",
       "0        1  Buenos Aires       Heber Joni Santana   \n",
       "1        2  Buenos Aires              Ana Sapriza   \n",
       "2        3  Buenos Aires  Fernando Luis Saralegui   \n",
       "3        4  Buenos Aires         Manuela Sarasola   \n",
       "4        5  Buenos Aires       Mario Raúl Sarasua   \n",
       "...    ...           ...                      ...   \n",
       "2667  2668       Córdoba       Maria Stella Rivas   \n",
       "2668  2669       Córdoba       Ana Gabriela Rivas   \n",
       "2669  2670       Córdoba    Javier Alonso Riveiro   \n",
       "2670  2671       Córdoba    Juan Manuel Rodriguez   \n",
       "2671  2672       Córdoba    Julio Cesar Rodriguez   \n",
       "\n",
       "                                              Domicilio   Telefono  Edad  \\\n",
       "0     Las Heras Y Bat. 24 De Febrero 4150  Rincon De...    42-5161    58   \n",
       "1     Pueyrredon Y Dupuy Ruta3 Km 52.500 S/N  Bâº Lo...    49-7578    61   \n",
       "2                              Calderon De La Barca 498    49-3435    15   \n",
       "3                     Ruta 36 Km 45,500 S/N  El Peligro    49-2883    29   \n",
       "4                        492 Y 186 S/N  Colonia Urquiza   491-4608    34   \n",
       "...                                                 ...        ...   ...   \n",
       "2667  Calle Publica  Santa Elena Colonia Tirolesa - ...    4902756    23   \n",
       "2668                    Calle Publica S/Nâº  La Arcadia  153580992    28   \n",
       "2669        Avenida Libertador San Martin S/Nâº  Bouwer    4993041    57   \n",
       "2670  Calle Publica S/Nâ°  El Gateado Barrio El Gate...  152768918    36   \n",
       "2671  Calle Publica S/Nâº  El Vergel P/Colonia Tirolesa  156149888    42   \n",
       "\n",
       "                Localidad             X             Y  \n",
       "0              Loma Verde  -58,81850307  -34,30997088  \n",
       "1              Santa Rosa  -58,73073751  -34,93908311  \n",
       "2                  Torres  -59,12794068  -34,43082199  \n",
       "3                Ruta Sol  -58,14393954  -34,92052706  \n",
       "4     Jose Melchor Romero    -58,089381   -34,9444471  \n",
       "...                   ...           ...           ...  \n",
       "2667     Colonia Tirolesa  -64,07419272  -31,25881725  \n",
       "2668           La Arcadia  -64,07696886  -31,53338396  \n",
       "2669               Bouwer  -64,19298343  -31,55786125  \n",
       "2670           El Gateado  -64,11681227  -31,32123448  \n",
       "2671            El Vergel  -64,07463455  -31,25832604  \n",
       "\n",
       "[2672 rows x 9 columns]"
      ]
     },
     "execution_count": 274,
     "metadata": {},
     "output_type": "execute_result"
    }
   ],
   "source": [
    "csv.repl"
   ]
  }
 ],
 "metadata": {
  "kernelspec": {
   "display_name": "Python 3.9.5 ('base')",
   "language": "python",
   "name": "python3"
  },
  "language_info": {
   "codemirror_mode": {
    "name": "ipython",
    "version": 3
   },
   "file_extension": ".py",
   "mimetype": "text/x-python",
   "name": "python",
   "nbconvert_exporter": "python",
   "pygments_lexer": "ipython3",
   "version": "3.9.5"
  },
  "orig_nbformat": 4,
  "vscode": {
   "interpreter": {
    "hash": "97bd01fe62e1fc55dc656bbce15621cfb80411fa9ef75cc4a438f2a333f4f694"
   }
  }
 },
 "nbformat": 4,
 "nbformat_minor": 2
}
